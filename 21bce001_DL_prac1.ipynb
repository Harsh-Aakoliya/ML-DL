{
 "cells": [
  {
   "cell_type": "code",
   "execution_count": 1,
   "id": "9d9518d3",
   "metadata": {
    "_cell_guid": "b1076dfc-b9ad-4769-8c92-a6c4dae69d19",
    "_uuid": "8f2839f25d086af736a60e9eeb907d3b93b6e0e5",
    "execution": {
     "iopub.execute_input": "2024-02-07T18:57:12.910555Z",
     "iopub.status.busy": "2024-02-07T18:57:12.910053Z",
     "iopub.status.idle": "2024-02-07T18:57:14.017344Z",
     "shell.execute_reply": "2024-02-07T18:57:14.014095Z"
    },
    "papermill": {
     "duration": 1.119077,
     "end_time": "2024-02-07T18:57:14.020724",
     "exception": false,
     "start_time": "2024-02-07T18:57:12.901647",
     "status": "completed"
    },
    "tags": []
   },
   "outputs": [
    {
     "name": "stdout",
     "output_type": "stream",
     "text": [
      "/kaggle/input/titanic/train.csv\n",
      "/kaggle/input/titanic/test.csv\n",
      "/kaggle/input/titanic/gender_submission.csv\n"
     ]
    }
   ],
   "source": [
    "# This Python 3 environment comes with many helpful analytics libraries installed\n",
    "# It is defined by the kaggle/python Docker image: https://github.com/kaggle/docker-python\n",
    "# For example, here's several helpful packages to load\n",
    "\n",
    "import numpy as np # linear algebra\n",
    "import pandas as pd # data processing, CSV file I/O (e.g. pd.read_csv)\n",
    "\n",
    "# Input data files are available in the read-only \"../input/\" directory\n",
    "# For example, running this (by clicking run or pressing Shift+Enter) will list all files under the input directory\n",
    "\n",
    "import os\n",
    "for dirname, _, filenames in os.walk('/kaggle/input'):\n",
    "    for filename in filenames:\n",
    "        print(os.path.join(dirname, filename))\n",
    "\n",
    "# You can write up to 20GB to the current directory (/kaggle/working/) that gets preserved as output when you create a version using \"Save & Run All\" \n",
    "# You can also write temporary files to /kaggle/temp/, but they won't be saved outside of the current session"
   ]
  },
  {
   "cell_type": "code",
   "execution_count": null,
   "id": "a8f92f53",
   "metadata": {
    "papermill": {
     "duration": 0.005921,
     "end_time": "2024-02-07T18:57:14.033182",
     "exception": false,
     "start_time": "2024-02-07T18:57:14.027261",
     "status": "completed"
    },
    "tags": []
   },
   "outputs": [],
   "source": []
  },
  {
   "cell_type": "code",
   "execution_count": 2,
   "id": "07892052",
   "metadata": {
    "execution": {
     "iopub.execute_input": "2024-02-07T18:57:14.048681Z",
     "iopub.status.busy": "2024-02-07T18:57:14.047079Z",
     "iopub.status.idle": "2024-02-07T18:57:15.842984Z",
     "shell.execute_reply": "2024-02-07T18:57:15.841717Z"
    },
    "papermill": {
     "duration": 1.806505,
     "end_time": "2024-02-07T18:57:15.846026",
     "exception": false,
     "start_time": "2024-02-07T18:57:14.039521",
     "status": "completed"
    },
    "tags": []
   },
   "outputs": [],
   "source": [
    "import pandas as pd\n",
    "import numpy as np\n",
    "import seaborn as sns\n",
    "import matplotlib.pyplot as plt"
   ]
  },
  {
   "cell_type": "code",
   "execution_count": 3,
   "id": "a75a611c",
   "metadata": {
    "execution": {
     "iopub.execute_input": "2024-02-07T18:57:15.861045Z",
     "iopub.status.busy": "2024-02-07T18:57:15.859833Z",
     "iopub.status.idle": "2024-02-07T18:57:15.924488Z",
     "shell.execute_reply": "2024-02-07T18:57:15.922657Z"
    },
    "papermill": {
     "duration": 0.075908,
     "end_time": "2024-02-07T18:57:15.927906",
     "exception": false,
     "start_time": "2024-02-07T18:57:15.851998",
     "status": "completed"
    },
    "tags": []
   },
   "outputs": [
    {
     "data": {
      "text/html": [
       "<div>\n",
       "<style scoped>\n",
       "    .dataframe tbody tr th:only-of-type {\n",
       "        vertical-align: middle;\n",
       "    }\n",
       "\n",
       "    .dataframe tbody tr th {\n",
       "        vertical-align: top;\n",
       "    }\n",
       "\n",
       "    .dataframe thead th {\n",
       "        text-align: right;\n",
       "    }\n",
       "</style>\n",
       "<table border=\"1\" class=\"dataframe\">\n",
       "  <thead>\n",
       "    <tr style=\"text-align: right;\">\n",
       "      <th></th>\n",
       "      <th>PassengerId</th>\n",
       "      <th>Survived</th>\n",
       "      <th>Pclass</th>\n",
       "      <th>Name</th>\n",
       "      <th>Sex</th>\n",
       "      <th>Age</th>\n",
       "      <th>SibSp</th>\n",
       "      <th>Parch</th>\n",
       "      <th>Ticket</th>\n",
       "      <th>Fare</th>\n",
       "      <th>Cabin</th>\n",
       "      <th>Embarked</th>\n",
       "    </tr>\n",
       "  </thead>\n",
       "  <tbody>\n",
       "    <tr>\n",
       "      <th>0</th>\n",
       "      <td>1</td>\n",
       "      <td>0</td>\n",
       "      <td>3</td>\n",
       "      <td>Braund, Mr. Owen Harris</td>\n",
       "      <td>male</td>\n",
       "      <td>22.0</td>\n",
       "      <td>1</td>\n",
       "      <td>0</td>\n",
       "      <td>A/5 21171</td>\n",
       "      <td>7.2500</td>\n",
       "      <td>NaN</td>\n",
       "      <td>S</td>\n",
       "    </tr>\n",
       "    <tr>\n",
       "      <th>1</th>\n",
       "      <td>2</td>\n",
       "      <td>1</td>\n",
       "      <td>1</td>\n",
       "      <td>Cumings, Mrs. John Bradley (Florence Briggs Th...</td>\n",
       "      <td>female</td>\n",
       "      <td>38.0</td>\n",
       "      <td>1</td>\n",
       "      <td>0</td>\n",
       "      <td>PC 17599</td>\n",
       "      <td>71.2833</td>\n",
       "      <td>C85</td>\n",
       "      <td>C</td>\n",
       "    </tr>\n",
       "    <tr>\n",
       "      <th>2</th>\n",
       "      <td>3</td>\n",
       "      <td>1</td>\n",
       "      <td>3</td>\n",
       "      <td>Heikkinen, Miss. Laina</td>\n",
       "      <td>female</td>\n",
       "      <td>26.0</td>\n",
       "      <td>0</td>\n",
       "      <td>0</td>\n",
       "      <td>STON/O2. 3101282</td>\n",
       "      <td>7.9250</td>\n",
       "      <td>NaN</td>\n",
       "      <td>S</td>\n",
       "    </tr>\n",
       "    <tr>\n",
       "      <th>3</th>\n",
       "      <td>4</td>\n",
       "      <td>1</td>\n",
       "      <td>1</td>\n",
       "      <td>Futrelle, Mrs. Jacques Heath (Lily May Peel)</td>\n",
       "      <td>female</td>\n",
       "      <td>35.0</td>\n",
       "      <td>1</td>\n",
       "      <td>0</td>\n",
       "      <td>113803</td>\n",
       "      <td>53.1000</td>\n",
       "      <td>C123</td>\n",
       "      <td>S</td>\n",
       "    </tr>\n",
       "    <tr>\n",
       "      <th>4</th>\n",
       "      <td>5</td>\n",
       "      <td>0</td>\n",
       "      <td>3</td>\n",
       "      <td>Allen, Mr. William Henry</td>\n",
       "      <td>male</td>\n",
       "      <td>35.0</td>\n",
       "      <td>0</td>\n",
       "      <td>0</td>\n",
       "      <td>373450</td>\n",
       "      <td>8.0500</td>\n",
       "      <td>NaN</td>\n",
       "      <td>S</td>\n",
       "    </tr>\n",
       "  </tbody>\n",
       "</table>\n",
       "</div>"
      ],
      "text/plain": [
       "   PassengerId  Survived  Pclass  \\\n",
       "0            1         0       3   \n",
       "1            2         1       1   \n",
       "2            3         1       3   \n",
       "3            4         1       1   \n",
       "4            5         0       3   \n",
       "\n",
       "                                                Name     Sex   Age  SibSp  \\\n",
       "0                            Braund, Mr. Owen Harris    male  22.0      1   \n",
       "1  Cumings, Mrs. John Bradley (Florence Briggs Th...  female  38.0      1   \n",
       "2                             Heikkinen, Miss. Laina  female  26.0      0   \n",
       "3       Futrelle, Mrs. Jacques Heath (Lily May Peel)  female  35.0      1   \n",
       "4                           Allen, Mr. William Henry    male  35.0      0   \n",
       "\n",
       "   Parch            Ticket     Fare Cabin Embarked  \n",
       "0      0         A/5 21171   7.2500   NaN        S  \n",
       "1      0          PC 17599  71.2833   C85        C  \n",
       "2      0  STON/O2. 3101282   7.9250   NaN        S  \n",
       "3      0            113803  53.1000  C123        S  \n",
       "4      0            373450   8.0500   NaN        S  "
      ]
     },
     "execution_count": 3,
     "metadata": {},
     "output_type": "execute_result"
    }
   ],
   "source": [
    "train_DS = pd.read_csv('/kaggle/input/titanic/train.csv')\n",
    "test_DS = pd.read_csv('/kaggle/input/titanic/test.csv')\n",
    "train_DS.head()"
   ]
  },
  {
   "cell_type": "code",
   "execution_count": 4,
   "id": "12e5969a",
   "metadata": {
    "execution": {
     "iopub.execute_input": "2024-02-07T18:57:15.943416Z",
     "iopub.status.busy": "2024-02-07T18:57:15.942997Z",
     "iopub.status.idle": "2024-02-07T18:57:15.973307Z",
     "shell.execute_reply": "2024-02-07T18:57:15.971533Z"
    },
    "papermill": {
     "duration": 0.043105,
     "end_time": "2024-02-07T18:57:15.977610",
     "exception": false,
     "start_time": "2024-02-07T18:57:15.934505",
     "status": "completed"
    },
    "tags": []
   },
   "outputs": [],
   "source": [
    "train_DS['Fam_size'] = train_DS['SibSp'] + train_DS['Parch'] + 1\n",
    "test_DS['Fam_size'] = test_DS['SibSp'] + test_DS['Parch'] + 1\n",
    "\n",
    "train_DS['Fam_type'] = pd.cut(train_DS.Fam_size, [0,1,4,7,11], labels=['Solo', 'Small', 'Big', 'Very big'])\n",
    "test_DS['Fam_type'] = pd.cut(test_DS.Fam_size, [0,1,4,7,11], labels=['Solo', 'Small', 'Big', 'Very big'])"
   ]
  },
  {
   "cell_type": "code",
   "execution_count": 5,
   "id": "94b8fb46",
   "metadata": {
    "execution": {
     "iopub.execute_input": "2024-02-07T18:57:15.993023Z",
     "iopub.status.busy": "2024-02-07T18:57:15.992555Z",
     "iopub.status.idle": "2024-02-07T18:57:16.009118Z",
     "shell.execute_reply": "2024-02-07T18:57:16.007438Z"
    },
    "papermill": {
     "duration": 0.027902,
     "end_time": "2024-02-07T18:57:16.012336",
     "exception": false,
     "start_time": "2024-02-07T18:57:15.984434",
     "status": "completed"
    },
    "tags": []
   },
   "outputs": [],
   "source": [
    "Y = train_DS['Survived']\n",
    "cols = ['Pclass', 'Fare', 'Sex', 'Embarked', 'Fam_type']\n",
    "X = train_DS[cols]\n",
    "X_test = test_DS[cols]"
   ]
  },
  {
   "cell_type": "code",
   "execution_count": 6,
   "id": "4d31e714",
   "metadata": {
    "execution": {
     "iopub.execute_input": "2024-02-07T18:57:16.028715Z",
     "iopub.status.busy": "2024-02-07T18:57:16.028276Z",
     "iopub.status.idle": "2024-02-07T18:57:16.047304Z",
     "shell.execute_reply": "2024-02-07T18:57:16.046367Z"
    },
    "papermill": {
     "duration": 0.0319,
     "end_time": "2024-02-07T18:57:16.050515",
     "exception": false,
     "start_time": "2024-02-07T18:57:16.018615",
     "status": "completed"
    },
    "tags": []
   },
   "outputs": [],
   "source": [
    "one_hot_training = pd.get_dummies(X)\n",
    "one_hot_test = pd.get_dummies(X_test)\n",
    "final_train, final_test = one_hot_training.align(one_hot_test, join='left', axis=1)"
   ]
  },
  {
   "cell_type": "code",
   "execution_count": 7,
   "id": "51f1def8",
   "metadata": {
    "execution": {
     "iopub.execute_input": "2024-02-07T18:57:16.066881Z",
     "iopub.status.busy": "2024-02-07T18:57:16.065604Z",
     "iopub.status.idle": "2024-02-07T18:57:16.557728Z",
     "shell.execute_reply": "2024-02-07T18:57:16.556299Z"
    },
    "papermill": {
     "duration": 0.503571,
     "end_time": "2024-02-07T18:57:16.560975",
     "exception": false,
     "start_time": "2024-02-07T18:57:16.057404",
     "status": "completed"
    },
    "tags": []
   },
   "outputs": [],
   "source": [
    "from sklearn.model_selection import train_test_split\n",
    "Xtrain, Xtest, Ytrain, Ytest = train_test_split(final_train, Y)"
   ]
  },
  {
   "cell_type": "code",
   "execution_count": 8,
   "id": "8359cc27",
   "metadata": {
    "execution": {
     "iopub.execute_input": "2024-02-07T18:57:16.576472Z",
     "iopub.status.busy": "2024-02-07T18:57:16.575650Z",
     "iopub.status.idle": "2024-02-07T18:57:16.807107Z",
     "shell.execute_reply": "2024-02-07T18:57:16.805362Z"
    },
    "papermill": {
     "duration": 0.243845,
     "end_time": "2024-02-07T18:57:16.811045",
     "exception": false,
     "start_time": "2024-02-07T18:57:16.567200",
     "status": "completed"
    },
    "tags": []
   },
   "outputs": [],
   "source": [
    "from sklearn.impute import SimpleImputer\n",
    "simp = SimpleImputer()\n",
    "final_train = simp.fit_transform(Xtrain)"
   ]
  },
  {
   "cell_type": "code",
   "execution_count": 9,
   "id": "d041285b",
   "metadata": {
    "execution": {
     "iopub.execute_input": "2024-02-07T18:57:16.825944Z",
     "iopub.status.busy": "2024-02-07T18:57:16.825448Z",
     "iopub.status.idle": "2024-02-07T18:57:16.878582Z",
     "shell.execute_reply": "2024-02-07T18:57:16.876998Z"
    },
    "papermill": {
     "duration": 0.063957,
     "end_time": "2024-02-07T18:57:16.881503",
     "exception": false,
     "start_time": "2024-02-07T18:57:16.817546",
     "status": "completed"
    },
    "tags": []
   },
   "outputs": [
    {
     "data": {
      "text/html": [
       "<style>#sk-container-id-1 {color: black;background-color: white;}#sk-container-id-1 pre{padding: 0;}#sk-container-id-1 div.sk-toggleable {background-color: white;}#sk-container-id-1 label.sk-toggleable__label {cursor: pointer;display: block;width: 100%;margin-bottom: 0;padding: 0.3em;box-sizing: border-box;text-align: center;}#sk-container-id-1 label.sk-toggleable__label-arrow:before {content: \"▸\";float: left;margin-right: 0.25em;color: #696969;}#sk-container-id-1 label.sk-toggleable__label-arrow:hover:before {color: black;}#sk-container-id-1 div.sk-estimator:hover label.sk-toggleable__label-arrow:before {color: black;}#sk-container-id-1 div.sk-toggleable__content {max-height: 0;max-width: 0;overflow: hidden;text-align: left;background-color: #f0f8ff;}#sk-container-id-1 div.sk-toggleable__content pre {margin: 0.2em;color: black;border-radius: 0.25em;background-color: #f0f8ff;}#sk-container-id-1 input.sk-toggleable__control:checked~div.sk-toggleable__content {max-height: 200px;max-width: 100%;overflow: auto;}#sk-container-id-1 input.sk-toggleable__control:checked~label.sk-toggleable__label-arrow:before {content: \"▾\";}#sk-container-id-1 div.sk-estimator input.sk-toggleable__control:checked~label.sk-toggleable__label {background-color: #d4ebff;}#sk-container-id-1 div.sk-label input.sk-toggleable__control:checked~label.sk-toggleable__label {background-color: #d4ebff;}#sk-container-id-1 input.sk-hidden--visually {border: 0;clip: rect(1px 1px 1px 1px);clip: rect(1px, 1px, 1px, 1px);height: 1px;margin: -1px;overflow: hidden;padding: 0;position: absolute;width: 1px;}#sk-container-id-1 div.sk-estimator {font-family: monospace;background-color: #f0f8ff;border: 1px dotted black;border-radius: 0.25em;box-sizing: border-box;margin-bottom: 0.5em;}#sk-container-id-1 div.sk-estimator:hover {background-color: #d4ebff;}#sk-container-id-1 div.sk-parallel-item::after {content: \"\";width: 100%;border-bottom: 1px solid gray;flex-grow: 1;}#sk-container-id-1 div.sk-label:hover label.sk-toggleable__label {background-color: #d4ebff;}#sk-container-id-1 div.sk-serial::before {content: \"\";position: absolute;border-left: 1px solid gray;box-sizing: border-box;top: 0;bottom: 0;left: 50%;z-index: 0;}#sk-container-id-1 div.sk-serial {display: flex;flex-direction: column;align-items: center;background-color: white;padding-right: 0.2em;padding-left: 0.2em;position: relative;}#sk-container-id-1 div.sk-item {position: relative;z-index: 1;}#sk-container-id-1 div.sk-parallel {display: flex;align-items: stretch;justify-content: center;background-color: white;position: relative;}#sk-container-id-1 div.sk-item::before, #sk-container-id-1 div.sk-parallel-item::before {content: \"\";position: absolute;border-left: 1px solid gray;box-sizing: border-box;top: 0;bottom: 0;left: 50%;z-index: -1;}#sk-container-id-1 div.sk-parallel-item {display: flex;flex-direction: column;z-index: 1;position: relative;background-color: white;}#sk-container-id-1 div.sk-parallel-item:first-child::after {align-self: flex-end;width: 50%;}#sk-container-id-1 div.sk-parallel-item:last-child::after {align-self: flex-start;width: 50%;}#sk-container-id-1 div.sk-parallel-item:only-child::after {width: 0;}#sk-container-id-1 div.sk-dashed-wrapped {border: 1px dashed gray;margin: 0 0.4em 0.5em 0.4em;box-sizing: border-box;padding-bottom: 0.4em;background-color: white;}#sk-container-id-1 div.sk-label label {font-family: monospace;font-weight: bold;display: inline-block;line-height: 1.2em;}#sk-container-id-1 div.sk-label-container {text-align: center;}#sk-container-id-1 div.sk-container {/* jupyter's `normalize.less` sets `[hidden] { display: none; }` but bootstrap.min.css set `[hidden] { display: none !important; }` so we also need the `!important` here to be able to override the default hidden behavior on the sphinx rendered scikit-learn.org. See: https://github.com/scikit-learn/scikit-learn/issues/21755 */display: inline-block !important;position: relative;}#sk-container-id-1 div.sk-text-repr-fallback {display: none;}</style><div id=\"sk-container-id-1\" class=\"sk-top-container\"><div class=\"sk-text-repr-fallback\"><pre>DecisionTreeClassifier()</pre><b>In a Jupyter environment, please rerun this cell to show the HTML representation or trust the notebook. <br />On GitHub, the HTML representation is unable to render, please try loading this page with nbviewer.org.</b></div><div class=\"sk-container\" hidden><div class=\"sk-item\"><div class=\"sk-estimator sk-toggleable\"><input class=\"sk-toggleable__control sk-hidden--visually\" id=\"sk-estimator-id-1\" type=\"checkbox\" checked><label for=\"sk-estimator-id-1\" class=\"sk-toggleable__label sk-toggleable__label-arrow\">DecisionTreeClassifier</label><div class=\"sk-toggleable__content\"><pre>DecisionTreeClassifier()</pre></div></div></div></div></div>"
      ],
      "text/plain": [
       "DecisionTreeClassifier()"
      ]
     },
     "execution_count": 9,
     "metadata": {},
     "output_type": "execute_result"
    }
   ],
   "source": [
    "from sklearn import tree\n",
    "model = tree.DecisionTreeClassifier()\n",
    "model.fit(final_train, Ytrain)"
   ]
  },
  {
   "cell_type": "code",
   "execution_count": 10,
   "id": "42a40811",
   "metadata": {
    "execution": {
     "iopub.execute_input": "2024-02-07T18:57:16.896384Z",
     "iopub.status.busy": "2024-02-07T18:57:16.895957Z",
     "iopub.status.idle": "2024-02-07T18:57:16.902758Z",
     "shell.execute_reply": "2024-02-07T18:57:16.901418Z"
    },
    "papermill": {
     "duration": 0.017648,
     "end_time": "2024-02-07T18:57:16.905421",
     "exception": false,
     "start_time": "2024-02-07T18:57:16.887773",
     "status": "completed"
    },
    "tags": []
   },
   "outputs": [],
   "source": [
    "final_test.fillna(0)\n",
    "final_test=final_test.replace(np.nan, 0)"
   ]
  },
  {
   "cell_type": "code",
   "execution_count": 11,
   "id": "6ca11f10",
   "metadata": {
    "execution": {
     "iopub.execute_input": "2024-02-07T18:57:16.920188Z",
     "iopub.status.busy": "2024-02-07T18:57:16.919444Z",
     "iopub.status.idle": "2024-02-07T18:57:16.931728Z",
     "shell.execute_reply": "2024-02-07T18:57:16.929874Z"
    },
    "papermill": {
     "duration": 0.023385,
     "end_time": "2024-02-07T18:57:16.935068",
     "exception": false,
     "start_time": "2024-02-07T18:57:16.911683",
     "status": "completed"
    },
    "tags": []
   },
   "outputs": [
    {
     "name": "stderr",
     "output_type": "stream",
     "text": [
      "/opt/conda/lib/python3.10/site-packages/sklearn/base.py:432: UserWarning: X has feature names, but DecisionTreeClassifier was fitted without feature names\n",
      "  warnings.warn(\n"
     ]
    }
   ],
   "source": [
    "pred = model.predict(final_test)"
   ]
  },
  {
   "cell_type": "code",
   "execution_count": 12,
   "id": "f849d888",
   "metadata": {
    "execution": {
     "iopub.execute_input": "2024-02-07T18:57:16.950498Z",
     "iopub.status.busy": "2024-02-07T18:57:16.950096Z",
     "iopub.status.idle": "2024-02-07T18:57:16.958093Z",
     "shell.execute_reply": "2024-02-07T18:57:16.956551Z"
    },
    "papermill": {
     "duration": 0.019131,
     "end_time": "2024-02-07T18:57:16.960816",
     "exception": false,
     "start_time": "2024-02-07T18:57:16.941685",
     "status": "completed"
    },
    "tags": []
   },
   "outputs": [
    {
     "data": {
      "text/plain": [
       "(418,)"
      ]
     },
     "execution_count": 12,
     "metadata": {},
     "output_type": "execute_result"
    }
   ],
   "source": [
    "pred.shape"
   ]
  },
  {
   "cell_type": "code",
   "execution_count": 13,
   "id": "436da2ec",
   "metadata": {
    "execution": {
     "iopub.execute_input": "2024-02-07T18:57:16.976122Z",
     "iopub.status.busy": "2024-02-07T18:57:16.975672Z",
     "iopub.status.idle": "2024-02-07T18:57:16.992121Z",
     "shell.execute_reply": "2024-02-07T18:57:16.990762Z"
    },
    "papermill": {
     "duration": 0.0278,
     "end_time": "2024-02-07T18:57:16.995068",
     "exception": false,
     "start_time": "2024-02-07T18:57:16.967268",
     "status": "completed"
    },
    "tags": []
   },
   "outputs": [
    {
     "data": {
      "text/html": [
       "<div>\n",
       "<style scoped>\n",
       "    .dataframe tbody tr th:only-of-type {\n",
       "        vertical-align: middle;\n",
       "    }\n",
       "\n",
       "    .dataframe tbody tr th {\n",
       "        vertical-align: top;\n",
       "    }\n",
       "\n",
       "    .dataframe thead th {\n",
       "        text-align: right;\n",
       "    }\n",
       "</style>\n",
       "<table border=\"1\" class=\"dataframe\">\n",
       "  <thead>\n",
       "    <tr style=\"text-align: right;\">\n",
       "      <th></th>\n",
       "      <th>PassengerId</th>\n",
       "      <th>Survived</th>\n",
       "    </tr>\n",
       "  </thead>\n",
       "  <tbody>\n",
       "    <tr>\n",
       "      <th>0</th>\n",
       "      <td>892</td>\n",
       "      <td>0</td>\n",
       "    </tr>\n",
       "    <tr>\n",
       "      <th>1</th>\n",
       "      <td>893</td>\n",
       "      <td>1</td>\n",
       "    </tr>\n",
       "    <tr>\n",
       "      <th>2</th>\n",
       "      <td>894</td>\n",
       "      <td>0</td>\n",
       "    </tr>\n",
       "    <tr>\n",
       "      <th>3</th>\n",
       "      <td>895</td>\n",
       "      <td>0</td>\n",
       "    </tr>\n",
       "    <tr>\n",
       "      <th>4</th>\n",
       "      <td>896</td>\n",
       "      <td>1</td>\n",
       "    </tr>\n",
       "    <tr>\n",
       "      <th>...</th>\n",
       "      <td>...</td>\n",
       "      <td>...</td>\n",
       "    </tr>\n",
       "    <tr>\n",
       "      <th>413</th>\n",
       "      <td>1305</td>\n",
       "      <td>0</td>\n",
       "    </tr>\n",
       "    <tr>\n",
       "      <th>414</th>\n",
       "      <td>1306</td>\n",
       "      <td>1</td>\n",
       "    </tr>\n",
       "    <tr>\n",
       "      <th>415</th>\n",
       "      <td>1307</td>\n",
       "      <td>0</td>\n",
       "    </tr>\n",
       "    <tr>\n",
       "      <th>416</th>\n",
       "      <td>1308</td>\n",
       "      <td>0</td>\n",
       "    </tr>\n",
       "    <tr>\n",
       "      <th>417</th>\n",
       "      <td>1309</td>\n",
       "      <td>0</td>\n",
       "    </tr>\n",
       "  </tbody>\n",
       "</table>\n",
       "<p>418 rows × 2 columns</p>\n",
       "</div>"
      ],
      "text/plain": [
       "     PassengerId  Survived\n",
       "0            892         0\n",
       "1            893         1\n",
       "2            894         0\n",
       "3            895         0\n",
       "4            896         1\n",
       "..           ...       ...\n",
       "413         1305         0\n",
       "414         1306         1\n",
       "415         1307         0\n",
       "416         1308         0\n",
       "417         1309         0\n",
       "\n",
       "[418 rows x 2 columns]"
      ]
     },
     "execution_count": 13,
     "metadata": {},
     "output_type": "execute_result"
    }
   ],
   "source": [
    "output = pd.DataFrame({'PassengerId': test_DS.PassengerId, 'Survived': pred})\n",
    "output"
   ]
  }
 ],
 "metadata": {
  "kaggle": {
   "accelerator": "none",
   "dataSources": [
    {
     "databundleVersionId": 26502,
     "sourceId": 3136,
     "sourceType": "competition"
    }
   ],
   "dockerImageVersionId": 30646,
   "isGpuEnabled": false,
   "isInternetEnabled": false,
   "language": "python",
   "sourceType": "notebook"
  },
  "kernelspec": {
   "display_name": "Python 3",
   "language": "python",
   "name": "python3"
  },
  "language_info": {
   "codemirror_mode": {
    "name": "ipython",
    "version": 3
   },
   "file_extension": ".py",
   "mimetype": "text/x-python",
   "name": "python",
   "nbconvert_exporter": "python",
   "pygments_lexer": "ipython3",
   "version": "3.10.13"
  },
  "papermill": {
   "default_parameters": {},
   "duration": 8.562171,
   "end_time": "2024-02-07T18:57:17.925662",
   "environment_variables": {},
   "exception": null,
   "input_path": "__notebook__.ipynb",
   "output_path": "__notebook__.ipynb",
   "parameters": {},
   "start_time": "2024-02-07T18:57:09.363491",
   "version": "2.5.0"
  }
 },
 "nbformat": 4,
 "nbformat_minor": 5
}
