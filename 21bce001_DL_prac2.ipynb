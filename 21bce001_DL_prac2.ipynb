{
  "nbformat": 4,
  "nbformat_minor": 0,
  "metadata": {
    "colab": {
      "provenance": [],
      "gpuType": "T4"
    },
    "kernelspec": {
      "name": "python3",
      "display_name": "Python 3"
    },
    "language_info": {
      "name": "python"
    },
    "accelerator": "GPU"
  },
  "cells": [
    {
      "cell_type": "code",
      "execution_count": null,
      "metadata": {
        "id": "8apyrHTydCE4"
      },
      "outputs": [],
      "source": [
        "import torch\n",
        "from torch import nn\n",
        "from torch.utils.data import DataLoader\n",
        "from torchvision import datasets\n",
        "from torchvision.transforms import ToTensor"
      ]
    },
    {
      "cell_type": "code",
      "source": [
        "train_data = datasets.MNIST(\n",
        "    root = \"data\",\n",
        "    train = True,\n",
        "    download = True,\n",
        "    transform = ToTensor()\n",
        ")\n",
        "\n",
        "test_data = datasets.MNIST(\n",
        "    root = \"data\",\n",
        "    train = False,\n",
        "    download = True,\n",
        "    transform = ToTensor()\n",
        ")"
      ],
      "metadata": {
        "colab": {
          "base_uri": "https://localhost:8080/"
        },
        "id": "0S8X_1QsKlSh",
        "outputId": "b9b84925-d7bb-494c-e3e9-61fea856d76a"
      },
      "execution_count": null,
      "outputs": [
        {
          "output_type": "stream",
          "name": "stdout",
          "text": [
            "Downloading http://yann.lecun.com/exdb/mnist/train-images-idx3-ubyte.gz\n",
            "Downloading http://yann.lecun.com/exdb/mnist/train-images-idx3-ubyte.gz to data/MNIST/raw/train-images-idx3-ubyte.gz\n"
          ]
        },
        {
          "output_type": "stream",
          "name": "stderr",
          "text": [
            "100%|██████████| 9912422/9912422 [00:00<00:00, 112130706.55it/s]\n"
          ]
        },
        {
          "output_type": "stream",
          "name": "stdout",
          "text": [
            "Extracting data/MNIST/raw/train-images-idx3-ubyte.gz to data/MNIST/raw\n",
            "\n",
            "Downloading http://yann.lecun.com/exdb/mnist/train-labels-idx1-ubyte.gz\n",
            "Downloading http://yann.lecun.com/exdb/mnist/train-labels-idx1-ubyte.gz to data/MNIST/raw/train-labels-idx1-ubyte.gz\n"
          ]
        },
        {
          "output_type": "stream",
          "name": "stderr",
          "text": [
            "100%|██████████| 28881/28881 [00:00<00:00, 44848461.25it/s]\n"
          ]
        },
        {
          "output_type": "stream",
          "name": "stdout",
          "text": [
            "Extracting data/MNIST/raw/train-labels-idx1-ubyte.gz to data/MNIST/raw\n",
            "\n",
            "Downloading http://yann.lecun.com/exdb/mnist/t10k-images-idx3-ubyte.gz\n",
            "Downloading http://yann.lecun.com/exdb/mnist/t10k-images-idx3-ubyte.gz to data/MNIST/raw/t10k-images-idx3-ubyte.gz\n"
          ]
        },
        {
          "output_type": "stream",
          "name": "stderr",
          "text": [
            "100%|██████████| 1648877/1648877 [00:00<00:00, 30792859.10it/s]\n"
          ]
        },
        {
          "output_type": "stream",
          "name": "stdout",
          "text": [
            "Extracting data/MNIST/raw/t10k-images-idx3-ubyte.gz to data/MNIST/raw\n",
            "\n",
            "Downloading http://yann.lecun.com/exdb/mnist/t10k-labels-idx1-ubyte.gz\n",
            "Downloading http://yann.lecun.com/exdb/mnist/t10k-labels-idx1-ubyte.gz to data/MNIST/raw/t10k-labels-idx1-ubyte.gz\n"
          ]
        },
        {
          "output_type": "stream",
          "name": "stderr",
          "text": [
            "100%|██████████| 4542/4542 [00:00<00:00, 10799619.48it/s]\n"
          ]
        },
        {
          "output_type": "stream",
          "name": "stdout",
          "text": [
            "Extracting data/MNIST/raw/t10k-labels-idx1-ubyte.gz to data/MNIST/raw\n",
            "\n"
          ]
        }
      ]
    },
    {
      "cell_type": "code",
      "source": [
        "print(type(train_data))"
      ],
      "metadata": {
        "colab": {
          "base_uri": "https://localhost:8080/"
        },
        "id": "m-J-CJYZQTg2",
        "outputId": "29abc78b-3958-4af0-80b3-e81ef16c8d70"
      },
      "execution_count": null,
      "outputs": [
        {
          "output_type": "stream",
          "name": "stdout",
          "text": [
            "<class 'torchvision.datasets.mnist.MNIST'>\n"
          ]
        }
      ]
    },
    {
      "cell_type": "code",
      "source": [
        "batch_size = 64\n",
        "\n",
        "train_dl = DataLoader(train_data, batch_size = batch_size)\n",
        "test_dl = DataLoader(test_data, batch_size = batch_size)"
      ],
      "metadata": {
        "id": "4E4_GVkfL6nr"
      },
      "execution_count": null,
      "outputs": []
    },
    {
      "cell_type": "code",
      "source": [
        "device = (\n",
        "    \"cuda\"\n",
        "    if torch.cuda.is_available()\n",
        "    else \"mps\"\n",
        "    if torch.backends.mps.is_available()\n",
        "    else \"cpu\"\n",
        ")\n",
        "\n",
        "print(f\"Using {device} device\")"
      ],
      "metadata": {
        "colab": {
          "base_uri": "https://localhost:8080/"
        },
        "id": "k-ycGjXeMYzy",
        "outputId": "1ea554df-4c56-4ae6-9ed1-bb94482c5501"
      },
      "execution_count": null,
      "outputs": [
        {
          "output_type": "stream",
          "name": "stdout",
          "text": [
            "Using cuda device\n"
          ]
        }
      ]
    },
    {
      "cell_type": "code",
      "source": [
        "class FPNN(nn.Module):\n",
        "  def __init__(self):\n",
        "    super().__init__()\n",
        "    self.flatten = nn.Flatten()\n",
        "    self.inh1 = nn.Linear(in_features=784, out_features=512, bias=False)\n",
        "    self.bn1 = nn.BatchNorm1d(512)\n",
        "    self.relu = nn.ReLU()\n",
        "    self.h2 = nn.Linear(in_features=512, out_features=256, bias=False)\n",
        "    self.bn2 = nn.BatchNorm1d(256)\n",
        "    self.h3 = nn.Linear(in_features=256, out_features=128, bias=False)\n",
        "    self.bn3 = nn.BatchNorm1d(128)\n",
        "    self.h4 = nn.Linear(in_features=128, out_features=64, bias=False)\n",
        "    self.bn4 = nn.BatchNorm1d(64)\n",
        "    self.h5 = nn.Linear(in_features=64, out_features=32, bias=False)\n",
        "    self.bn5 = nn.BatchNorm1d(32)\n",
        "    self.h6 = nn.Linear(in_features=32, out_features=10, bias=False)\n",
        "    self.bn6 = nn.BatchNorm1d(10)\n",
        "  def forward(self, x):\n",
        "    x = self.flatten(x)\n",
        "    x = self.inh1(x)\n",
        "    x = self.relu(x)\n",
        "    x = self.bn1(x)\n",
        "    x = self.h2(x)\n",
        "    x = self.relu(x)\n",
        "    x = self.bn2(x)\n",
        "    x = self.h3(x)\n",
        "    x = self.relu(x)\n",
        "    x = self.bn3(x)\n",
        "    x = self.h4(x)\n",
        "    x = self.relu(x)\n",
        "    x = self.bn4(x)\n",
        "    x = self.h5(x)\n",
        "    x = self.relu(x)\n",
        "    x = self.bn5(x)\n",
        "    x = self.h6(x)\n",
        "    output = self.bn6(x)\n",
        "\n",
        "    return output"
      ],
      "metadata": {
        "id": "L6GJvME8Ov8x"
      },
      "execution_count": null,
      "outputs": []
    },
    {
      "cell_type": "code",
      "source": [
        "def train(dataloader, model, loss_fn, optimizer):\n",
        "  model.train()\n",
        "  track_loss=0\n",
        "  num_correct=0\n",
        "  for i, (imgs, labels) in enumerate(dataloader):\n",
        "      imgs=imgs.to(device)\n",
        "      labels=labels.to(device)\n",
        "      pred=model(imgs)\n",
        "\n",
        "      loss=loss_fn(pred,labels)\n",
        "      track_loss+=loss.item()\n",
        "      num_correct+=(torch.argmax(pred,dim=1)==labels).type(torch.float).sum().item()\n",
        "\n",
        "      running_loss=round(track_loss/(i+(imgs.shape[0]/batch_size)),2)\n",
        "      running_acc=round((num_correct/((i*batch_size+imgs.shape[0])))*100,2)\n",
        "\n",
        "      loss.backward()\n",
        "      optimizer.step()\n",
        "      optimizer.zero_grad()\n",
        "\n",
        "      if i%100==0:\n",
        "          print(\"Batch:\", i+1, \"/\",len(dataloader), \"Running Loss:\",running_loss, \"Running Accuracy:\",running_acc)\n",
        "\n",
        "  epoch_loss=running_loss\n",
        "  epoch_acc=running_acc\n",
        "  return epoch_loss, epoch_acc"
      ],
      "metadata": {
        "id": "1ZfQ_wROGA-F"
      },
      "execution_count": null,
      "outputs": []
    },
    {
      "cell_type": "code",
      "source": [
        "def test(dataloader, model, loss_fn):\n",
        "    size = len(dataloader.dataset)\n",
        "    num_batches = len(dataloader)\n",
        "    model.eval()\n",
        "    test_loss, correct = 0, 0\n",
        "    with torch.no_grad():\n",
        "        for X, y in dataloader:\n",
        "            X, y = X.to(device), y.to(device)\n",
        "            pred = model(X)\n",
        "            test_loss += loss_fn(pred, y).item()\n",
        "            correct += (pred.argmax(1) == y).type(torch.float).sum().item()\n",
        "    test_loss /= num_batches\n",
        "    correct /= size\n",
        "    print(f\"Test Error: \\n Accuracy: {(100*correct):>0.1f}%, Avg loss: {test_loss:>8f} \\n\")"
      ],
      "metadata": {
        "id": "ImG_76ZyGHM4"
      },
      "execution_count": null,
      "outputs": []
    },
    {
      "cell_type": "code",
      "source": [
        "model=FPNN()\n",
        "model=model.to(device)\n",
        "loss=nn.CrossEntropyLoss()\n",
        "lr=0.001\n",
        "\n",
        "optimizer=torch.optim.Adam(params=model.parameters(), lr=lr)\n",
        "\n",
        "epochs=10\n",
        "\n",
        "for i in range(epochs):\n",
        "    print(\"Epoch:\",i+1)\n",
        "    train_epoch_loss, train_epoch_acc = train(train_dl, model, loss, optimizer)\n",
        "    print(\"Training:\", \"Epoch Loss:\", train_epoch_loss, \"Epoch Accuracy:\", train_epoch_acc)\n",
        "    print(\"--------------------------------------------------\")\n",
        "\n",
        "test(test_dl, model, loss)"
      ],
      "metadata": {
        "id": "Pfi-vi76K3ah",
        "colab": {
          "base_uri": "https://localhost:8080/"
        },
        "outputId": "d8048c28-4d72-4623-8c93-f1f0a8e88bc3"
      },
      "execution_count": null,
      "outputs": [
        {
          "output_type": "stream",
          "name": "stdout",
          "text": [
            "Epoch: 1\n",
            "Batch: 1 / 938 Running Loss: 2.69 Running Accuracy: 6.25\n",
            "Batch: 101 / 938 Running Loss: 0.74 Running Accuracy: 84.78\n",
            "Batch: 201 / 938 Running Loss: 0.61 Running Accuracy: 88.33\n",
            "Batch: 301 / 938 Running Loss: 0.54 Running Accuracy: 89.67\n",
            "Batch: 401 / 938 Running Loss: 0.49 Running Accuracy: 90.71\n",
            "Batch: 501 / 938 Running Loss: 0.46 Running Accuracy: 91.33\n",
            "Batch: 601 / 938 Running Loss: 0.43 Running Accuracy: 91.85\n",
            "Batch: 701 / 938 Running Loss: 0.41 Running Accuracy: 92.27\n",
            "Batch: 801 / 938 Running Loss: 0.39 Running Accuracy: 92.5\n",
            "Batch: 901 / 938 Running Loss: 0.37 Running Accuracy: 92.79\n",
            "Training: Epoch Loss: 0.36 Epoch Accuracy: 92.94\n",
            "--------------------------------------------------\n",
            "Epoch: 2\n",
            "Batch: 1 / 938 Running Loss: 0.19 Running Accuracy: 96.88\n",
            "Batch: 101 / 938 Running Loss: 0.2 Running Accuracy: 95.85\n",
            "Batch: 201 / 938 Running Loss: 0.2 Running Accuracy: 95.51\n",
            "Batch: 301 / 938 Running Loss: 0.2 Running Accuracy: 95.7\n",
            "Batch: 401 / 938 Running Loss: 0.19 Running Accuracy: 95.86\n",
            "Batch: 501 / 938 Running Loss: 0.19 Running Accuracy: 95.93\n",
            "Batch: 601 / 938 Running Loss: 0.18 Running Accuracy: 96.02\n",
            "Batch: 701 / 938 Running Loss: 0.18 Running Accuracy: 96.1\n",
            "Batch: 801 / 938 Running Loss: 0.18 Running Accuracy: 96.05\n",
            "Batch: 901 / 938 Running Loss: 0.17 Running Accuracy: 96.14\n",
            "Training: Epoch Loss: 0.17 Epoch Accuracy: 96.21\n",
            "--------------------------------------------------\n",
            "Epoch: 3\n",
            "Batch: 1 / 938 Running Loss: 0.16 Running Accuracy: 96.88\n",
            "Batch: 101 / 938 Running Loss: 0.12 Running Accuracy: 97.12\n",
            "Batch: 201 / 938 Running Loss: 0.13 Running Accuracy: 96.94\n",
            "Batch: 301 / 938 Running Loss: 0.13 Running Accuracy: 97.02\n",
            "Batch: 401 / 938 Running Loss: 0.12 Running Accuracy: 97.16\n",
            "Batch: 501 / 938 Running Loss: 0.12 Running Accuracy: 97.15\n",
            "Batch: 601 / 938 Running Loss: 0.12 Running Accuracy: 97.23\n",
            "Batch: 701 / 938 Running Loss: 0.12 Running Accuracy: 97.3\n",
            "Batch: 801 / 938 Running Loss: 0.12 Running Accuracy: 97.28\n",
            "Batch: 901 / 938 Running Loss: 0.12 Running Accuracy: 97.29\n",
            "Training: Epoch Loss: 0.11 Epoch Accuracy: 97.32\n",
            "--------------------------------------------------\n",
            "Epoch: 4\n",
            "Batch: 1 / 938 Running Loss: 0.1 Running Accuracy: 96.88\n",
            "Batch: 101 / 938 Running Loss: 0.09 Running Accuracy: 97.82\n",
            "Batch: 201 / 938 Running Loss: 0.1 Running Accuracy: 97.68\n",
            "Batch: 301 / 938 Running Loss: 0.09 Running Accuracy: 97.67\n",
            "Batch: 401 / 938 Running Loss: 0.09 Running Accuracy: 97.74\n",
            "Batch: 501 / 938 Running Loss: 0.09 Running Accuracy: 97.75\n",
            "Batch: 601 / 938 Running Loss: 0.09 Running Accuracy: 97.74\n",
            "Batch: 701 / 938 Running Loss: 0.09 Running Accuracy: 97.79\n",
            "Batch: 801 / 938 Running Loss: 0.09 Running Accuracy: 97.8\n",
            "Batch: 901 / 938 Running Loss: 0.09 Running Accuracy: 97.84\n",
            "Training: Epoch Loss: 0.09 Epoch Accuracy: 97.87\n",
            "--------------------------------------------------\n",
            "Epoch: 5\n",
            "Batch: 1 / 938 Running Loss: 0.03 Running Accuracy: 100.0\n",
            "Batch: 101 / 938 Running Loss: 0.07 Running Accuracy: 98.19\n",
            "Batch: 201 / 938 Running Loss: 0.07 Running Accuracy: 98.08\n",
            "Batch: 301 / 938 Running Loss: 0.08 Running Accuracy: 98.12\n",
            "Batch: 401 / 938 Running Loss: 0.07 Running Accuracy: 98.14\n",
            "Batch: 501 / 938 Running Loss: 0.07 Running Accuracy: 98.13\n",
            "Batch: 601 / 938 Running Loss: 0.07 Running Accuracy: 98.13\n",
            "Batch: 701 / 938 Running Loss: 0.07 Running Accuracy: 98.13\n",
            "Batch: 801 / 938 Running Loss: 0.07 Running Accuracy: 98.16\n",
            "Batch: 901 / 938 Running Loss: 0.07 Running Accuracy: 98.18\n",
            "Training: Epoch Loss: 0.07 Epoch Accuracy: 98.21\n",
            "--------------------------------------------------\n",
            "Epoch: 6\n",
            "Batch: 1 / 938 Running Loss: 0.02 Running Accuracy: 100.0\n",
            "Batch: 101 / 938 Running Loss: 0.06 Running Accuracy: 98.62\n",
            "Batch: 201 / 938 Running Loss: 0.06 Running Accuracy: 98.53\n",
            "Batch: 301 / 938 Running Loss: 0.06 Running Accuracy: 98.47\n",
            "Batch: 401 / 938 Running Loss: 0.06 Running Accuracy: 98.53\n",
            "Batch: 501 / 938 Running Loss: 0.06 Running Accuracy: 98.55\n",
            "Batch: 601 / 938 Running Loss: 0.05 Running Accuracy: 98.56\n",
            "Batch: 701 / 938 Running Loss: 0.05 Running Accuracy: 98.56\n",
            "Batch: 801 / 938 Running Loss: 0.06 Running Accuracy: 98.52\n",
            "Batch: 901 / 938 Running Loss: 0.06 Running Accuracy: 98.52\n",
            "Training: Epoch Loss: 0.06 Epoch Accuracy: 98.55\n",
            "--------------------------------------------------\n",
            "Epoch: 7\n",
            "Batch: 1 / 938 Running Loss: 0.03 Running Accuracy: 98.44\n",
            "Batch: 101 / 938 Running Loss: 0.05 Running Accuracy: 98.69\n",
            "Batch: 201 / 938 Running Loss: 0.04 Running Accuracy: 98.87\n",
            "Batch: 301 / 938 Running Loss: 0.04 Running Accuracy: 98.86\n",
            "Batch: 401 / 938 Running Loss: 0.04 Running Accuracy: 98.87\n",
            "Batch: 501 / 938 Running Loss: 0.04 Running Accuracy: 98.87\n",
            "Batch: 601 / 938 Running Loss: 0.04 Running Accuracy: 98.87\n",
            "Batch: 701 / 938 Running Loss: 0.04 Running Accuracy: 98.84\n",
            "Batch: 801 / 938 Running Loss: 0.04 Running Accuracy: 98.81\n",
            "Batch: 901 / 938 Running Loss: 0.04 Running Accuracy: 98.81\n",
            "Training: Epoch Loss: 0.04 Epoch Accuracy: 98.82\n",
            "--------------------------------------------------\n",
            "Epoch: 8\n",
            "Batch: 1 / 938 Running Loss: 0.04 Running Accuracy: 98.44\n",
            "Batch: 101 / 938 Running Loss: 0.04 Running Accuracy: 98.84\n",
            "Batch: 201 / 938 Running Loss: 0.04 Running Accuracy: 98.86\n",
            "Batch: 301 / 938 Running Loss: 0.04 Running Accuracy: 98.94\n",
            "Batch: 401 / 938 Running Loss: 0.04 Running Accuracy: 98.99\n",
            "Batch: 501 / 938 Running Loss: 0.04 Running Accuracy: 99.0\n",
            "Batch: 601 / 938 Running Loss: 0.04 Running Accuracy: 98.98\n",
            "Batch: 701 / 938 Running Loss: 0.04 Running Accuracy: 98.98\n",
            "Batch: 801 / 938 Running Loss: 0.04 Running Accuracy: 98.97\n",
            "Batch: 901 / 938 Running Loss: 0.04 Running Accuracy: 99.01\n",
            "Training: Epoch Loss: 0.04 Epoch Accuracy: 99.03\n",
            "--------------------------------------------------\n",
            "Epoch: 9\n",
            "Batch: 1 / 938 Running Loss: 0.01 Running Accuracy: 100.0\n",
            "Batch: 101 / 938 Running Loss: 0.03 Running Accuracy: 99.29\n",
            "Batch: 201 / 938 Running Loss: 0.03 Running Accuracy: 99.11\n",
            "Batch: 301 / 938 Running Loss: 0.03 Running Accuracy: 99.14\n",
            "Batch: 401 / 938 Running Loss: 0.03 Running Accuracy: 99.12\n",
            "Batch: 501 / 938 Running Loss: 0.03 Running Accuracy: 99.04\n",
            "Batch: 601 / 938 Running Loss: 0.03 Running Accuracy: 99.03\n",
            "Batch: 701 / 938 Running Loss: 0.03 Running Accuracy: 99.06\n",
            "Batch: 801 / 938 Running Loss: 0.03 Running Accuracy: 99.06\n",
            "Batch: 901 / 938 Running Loss: 0.03 Running Accuracy: 99.09\n",
            "Training: Epoch Loss: 0.03 Epoch Accuracy: 99.1\n",
            "--------------------------------------------------\n",
            "Epoch: 10\n",
            "Batch: 1 / 938 Running Loss: 0.04 Running Accuracy: 98.44\n",
            "Batch: 101 / 938 Running Loss: 0.03 Running Accuracy: 99.16\n",
            "Batch: 201 / 938 Running Loss: 0.03 Running Accuracy: 99.12\n",
            "Batch: 301 / 938 Running Loss: 0.03 Running Accuracy: 99.22\n",
            "Batch: 401 / 938 Running Loss: 0.03 Running Accuracy: 99.3\n",
            "Batch: 501 / 938 Running Loss: 0.03 Running Accuracy: 99.26\n",
            "Batch: 601 / 938 Running Loss: 0.03 Running Accuracy: 99.23\n",
            "Batch: 701 / 938 Running Loss: 0.03 Running Accuracy: 99.23\n",
            "Batch: 801 / 938 Running Loss: 0.03 Running Accuracy: 99.21\n",
            "Batch: 901 / 938 Running Loss: 0.03 Running Accuracy: 99.21\n",
            "Training: Epoch Loss: 0.03 Epoch Accuracy: 99.22\n",
            "--------------------------------------------------\n",
            "Test Error: \n",
            " Accuracy: 97.4%, Avg loss: 0.094420 \n",
            "\n"
          ]
        }
      ]
    }
  ]
}